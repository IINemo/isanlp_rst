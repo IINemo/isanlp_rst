{
 "cells": [
  {
   "cell_type": "code",
   "execution_count": null,
   "metadata": {},
   "outputs": [],
   "source": [
    "! pip install -U git+https://github.com/IINemo/isanlp.git@discourse"
   ]
  },
  {
   "cell_type": "code",
   "execution_count": null,
   "metadata": {},
   "outputs": [],
   "source": [
    "from isanlp import PipelineCommon\n",
    "from isanlp.processor_remote import ProcessorRemote\n",
    "from isanlp.ru.processor_mystem import ProcessorMystem\n",
    "from isanlp.ru.converter_mystem_to_ud import ConverterMystemToUd\n",
    "\n",
    "address_morph = (SERVER0, 4333)\n",
    "address_syntax = (SERVER0, 5336)\n",
    "address_rst = (SERVER2, 3344)\n",
    "\n",
    "ppl = PipelineCommon([\n",
    "    (ProcessorRemote(address_syntax[0], address_syntax[1], '0'),\n",
    "     ['text'],\n",
    "     {'sentences': 'sentences',\n",
    "      'tokens': 'tokens',\n",
    "      'lemma': 'lemma',\n",
    "      'syntax_dep_tree': 'syntax_dep_tree',\n",
    "      'postag': 'ud_postag'}),\n",
    "    (ProcessorMystem(delay_init=False),\n",
    "     ['tokens', 'sentences'],\n",
    "     {'postag': 'postag'}),\n",
    "    (ConverterMystemToUd(),\n",
    "     ['postag'],\n",
    "     {'morph': 'morph',\n",
    "      'postag': 'postag'}),\n",
    "    (ProcessorRemote(address_rst[0], address_rst[1], 'default'),\n",
    "     ['text', 'tokens', 'sentences', 'postag', 'morph', 'lemma', 'syntax_dep_tree'],\n",
    "     {'rst': 'rst'})\n",
    "])"
   ]
  },
  {
   "cell_type": "code",
   "execution_count": null,
   "metadata": {},
   "outputs": [],
   "source": [
    "from utils.file_reading import read_annotation, read_edus, read_gold\n",
    "\n",
    "example = 'data/news1_1'\n",
    "text = read_annotation(example)['text']\n",
    "gold_edus = read_edus(example)\n",
    "gold_pairs = read_gold(example)"
   ]
  },
  {
   "cell_type": "code",
   "execution_count": null,
   "metadata": {},
   "outputs": [],
   "source": [
    "%%time\n",
    "\n",
    "result = ppl(text)"
   ]
  },
  {
   "cell_type": "code",
   "execution_count": null,
   "metadata": {
    "scrolled": true
   },
   "outputs": [],
   "source": [
    "result['rst']"
   ]
  },
  {
   "cell_type": "code",
   "execution_count": null,
   "metadata": {},
   "outputs": [],
   "source": [
    "print(result['rst'][1])"
   ]
  },
  {
   "cell_type": "code",
   "execution_count": null,
   "metadata": {},
   "outputs": [],
   "source": [
    "import pandas as pd\n",
    "\n",
    "\n",
    "def metric_parseval(parsed_pairs, gold, labeled=False):\n",
    "    parsed_strings = []\n",
    "    for row in parsed_pairs:\n",
    "        label = ' ' + row[2] if labeled else ''\n",
    "        parsed_strings.append(row[0].strip() + ' ' + row[1].strip() + label)\n",
    "    parsed_strings = set(parsed_strings)\n",
    "    \n",
    "    gold_strings = []\n",
    "    for i in gold.index:\n",
    "        label = ' ' + gold.loc[i, 'category_id'] if labeled else ''\n",
    "        gold_strings.append(gold.loc[i, 'snippet_x'].strip() + ' ' + gold.loc[i, 'snippet_y'].strip() + label)\n",
    "    gold_strings = set(gold_strings)\n",
    "    \n",
    "    true_pos = len(gold_strings & parsed_strings)\n",
    "    all_parsed = len(parsed_strings)\n",
    "    all_gold = len(gold_strings)\n",
    "    \n",
    "    pr = true_pos / all_parsed\n",
    "    re = true_pos / all_gold\n",
    "    f1 = 2 * pr * re / (pr + re + 1e-5)\n",
    "    \n",
    "    return {\n",
    "        'pr': pr,\n",
    "        're': re,\n",
    "        'f1': f1\n",
    "    }\n",
    "    \n",
    "def extr_pairs(tree):\n",
    "    pp = []\n",
    "    if tree.left:\n",
    "        pp.append([tree.left.text, tree.right.text, tree.relation])\n",
    "        pp += extr_pairs(tree.left)\n",
    "        pp += extr_pairs(tree.right)\n",
    "    return pp\n",
    "\n",
    "def extr_pairs_forest(forest):\n",
    "    pp = []\n",
    "    for tree in forest:\n",
    "        pp += extr_pairs(tree)\n",
    "    return pp\n",
    "\n",
    "def _check_snippet_pair_in_dataset(left_snippet, right_snippet):\n",
    "    left_snippet = left_snippet.strip()\n",
    "    right_snippet = right_snippet.strip()\n",
    "    return ((((gold.snippet_x == left_snippet) & (gold.snippet_y == right_snippet)).sum(axis=0) != 0) \n",
    "            or ((gold.snippet_y == left_snippet) & (gold.snippet_x == right_snippet)).sum(axis=0) != 0)\n",
    "\n",
    "def _not_parsed_as_in_gold(parsed_pairs: pd.DataFrame, gold: pd.DataFrame):\n",
    "    tmp = pd.merge(gold, parsed_pairs, on=['snippet_x', 'snippet_y'], how='left', suffixes=('_gold', '_parsed'))\n",
    "    return tmp[pd.isnull(tmp.category_id_parsed)]\n",
    "\n",
    "def extr_edus(tree):\n",
    "    edus = []\n",
    "    if tree.left:\n",
    "        edus += extr_edus(tree.left)\n",
    "        edus += extr_edus(tree.right)\n",
    "    else:\n",
    "        edus.append(tree.text)\n",
    "    return edus\n"
   ]
  },
  {
   "cell_type": "code",
   "execution_count": null,
   "metadata": {},
   "outputs": [],
   "source": [
    "def eval_segmentation(trees, gold_edus):\n",
    "    true_predictions = 0\n",
    "    all_predicted = 0\n",
    "    \n",
    "    for tree in trees:\n",
    "        pred_edus = extr_edus(tree)\n",
    "        all_predicted += len(pred_edus)\n",
    "    \n",
    "        for pred_edu in pred_edus:\n",
    "            if pred_edu in gold_edus:\n",
    "                true_predictions += 1\n",
    "            \n",
    "    pr = true_predictions / all_predicted\n",
    "    re = true_predictions / len(gold_edus)\n",
    "    f1 = 2 * pr * re / (pr + re)\n",
    "    return {'pr': pr, \n",
    "            're': re,\n",
    "            'f1': f1}"
   ]
  },
  {
   "cell_type": "code",
   "execution_count": null,
   "metadata": {},
   "outputs": [],
   "source": [
    "def eval_pipeline(trees, gold_edus, gold_pairs):\n",
    "    parsed_pairs = extr_pairs_forest(trees)\n",
    "    return {\n",
    "        'segmentation': eval_segmentation(trees, gold_edus),\n",
    "        'unlabeled_tree_building': metric_parseval(parsed_pairs, gold_pairs),\n",
    "        'labeled_tree_building': metric_parseval(parsed_pairs, gold_pairs, labeled=True)\n",
    "    }"
   ]
  },
  {
   "cell_type": "code",
   "execution_count": null,
   "metadata": {},
   "outputs": [],
   "source": [
    "eval_pipeline(result['rst'], gold_edus, gold_pairs)"
   ]
  }
 ],
 "metadata": {
  "kernelspec": {
   "display_name": "Python 3",
   "language": "python",
   "name": "python3"
  },
  "language_info": {
   "codemirror_mode": {
    "name": "ipython",
    "version": 3
   },
   "file_extension": ".py",
   "mimetype": "text/x-python",
   "name": "python",
   "nbconvert_exporter": "python",
   "pygments_lexer": "ipython3",
   "version": "3.7.4"
  }
 },
 "nbformat": 4,
 "nbformat_minor": 2
}
