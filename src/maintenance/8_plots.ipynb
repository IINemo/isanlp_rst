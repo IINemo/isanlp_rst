{
 "cells": [
  {
   "cell_type": "code",
   "execution_count": null,
   "metadata": {},
   "outputs": [],
   "source": [
    "import numpy as np\n",
    "import pandas as pd"
   ]
  },
  {
   "cell_type": "code",
   "execution_count": null,
   "metadata": {},
   "outputs": [],
   "source": [
    "baseline = np.array([85.2173913 , 76.92307692,  3.92156863, 42.93193717,\n",
    "       28.69955157, 15.15151515, 47.61904762, 56.62650602, 50.88757396,\n",
    "       48.35680751, 49.4365139 ,  3.7037037 , 28.86597938, 13.33333333,\n",
    "       53.54058722, 28.85572139, 75.94936709, 54.54545455, 28.57142857,\n",
    "       42.75862069, 21.65605096, 40.50632911, 39.1959279 , 46.05518468])[:-1]\n",
    "\n",
    "baseline_af = np.array([90.        , 72.47706422,  0.        , 38.1443299 ,\n",
    "       36.69724771, 16.86746988, 32.        , 56.75675676, 61.17647059,\n",
    "       61.4379085 , 54.73965287,  7.40740741, 34.75409836, 16.66666667,\n",
    "       56.99570815, 32.65306122, 73.80952381, 73.91304348, 34.28571429,\n",
    "       32.87671233, 22.22222222, 42.55319149, 41.7686586 , 49.54576215])[:-1]\n",
    "\n",
    "bimpm = np.array([93.75      , 83.87096774,  7.89473684,  46.46464646,\n",
    "       42.2310757 , 11.64021164, 46.15384615, 56.94444444, 74.21383648,\n",
    "       60.75949367, 33.06358382,  4.87804878, 29.23076923, 25.80645161,\n",
    "       50.93256815, 21.17647059, 77.5       , 76.59574468, 37.73584906,\n",
    "       50.27322404, 32.74336283, 44.15584416, 43.96929846, 44.99984892])[:-1]  # ELMo + fastText\n",
    "\n",
    "ensemble = np.array([93.75      , 82.72251309,  8.82352941, 49.        ,\n",
    "       43.88185654, 14.51612903, 46.15384615, 59.31034483, 74.3902439 ,\n",
    "       63.26963907, 47.06959707,  6.25      , 36.70411985, 25.        ,\n",
    "       57.73809524, 31.01604278, 80.25477707, 78.26086957, 41.86046512,\n",
    "       53.40909091, 36.5535248 , 48.        , 46.86672541, 51.40414706])[:-1]"
   ]
  },
  {
   "cell_type": "code",
   "execution_count": null,
   "metadata": {},
   "outputs": [],
   "source": [
    "from matplotlib import pyplot as plt\n",
    "plt.rcParams[\"figure.figsize\"] = [6, 8]\n",
    "\n",
    "%config InlineBackend.figure_format = 'svg'"
   ]
  },
  {
   "cell_type": "code",
   "execution_count": null,
   "metadata": {
    "scrolled": true
   },
   "outputs": [],
   "source": [
    "plotdata = pd.DataFrame({\n",
    "    \"baseline\":baseline,\n",
    "    \"baseline+AF\":baseline_af,\n",
    "    \"BiMPM\":bimpm,\n",
    "    \"Ensemble\":ensemble\n",
    "    }, \n",
    "    index=['attribution_NS', 'attribution_SN', 'background_NS',\n",
    "       'cause-effect_NS', 'cause-effect_SN',\n",
    "       'comparison_NN', 'concession_NS', 'condition_NS', 'condition_SN',\n",
    "       'contrast_NN', 'elaboration_NS', 'evidence_NS',\n",
    "       'interpretation-evaluation_NS', 'interpretation-evaluation_SN',\n",
    "       'joint_NN', 'preparation_SN', 'purpose_NS', 'purpose_SN',\n",
    "       'restatement_NN', 'same-unit_NN', 'sequence_NN', 'solutionhood_SN'] + ['macro average',]\n",
    ")\n",
    "\n",
    "plotdata.plot.barh(width=.65)\n",
    "plt.xlabel(\"F1\")\n",
    "plt.ylabel(\"Relation\")\n",
    "plt.gca().invert_yaxis()\n",
    "plt.savefig(fname='fig_relations_eval.pdf', format='pdf', bbox_inches='tight')"
   ]
  }
 ],
 "metadata": {
  "kernelspec": {
   "display_name": "Python 3",
   "language": "python",
   "name": "python3"
  },
  "language_info": {
   "codemirror_mode": {
    "name": "ipython",
    "version": 3
   },
   "file_extension": ".py",
   "mimetype": "text/x-python",
   "name": "python",
   "nbconvert_exporter": "python",
   "pygments_lexer": "ipython3",
   "version": "3.7.4"
  }
 },
 "nbformat": 4,
 "nbformat_minor": 4
}
