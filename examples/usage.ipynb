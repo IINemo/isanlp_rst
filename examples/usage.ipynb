{
 "cells": [
  {
   "cell_type": "code",
   "execution_count": null,
   "metadata": {},
   "outputs": [],
   "source": [
    "! pip install -U git+https://github.com/IINemo/isanlp.git@discourse"
   ]
  },
  {
   "cell_type": "code",
   "execution_count": null,
   "metadata": {},
   "outputs": [],
   "source": [
    "SERVER0 = ''\n",
    "SERVER1 = ''\n",
    "SERVER2 = ''"
   ]
  },
  {
   "cell_type": "code",
   "execution_count": 2,
   "metadata": {},
   "outputs": [],
   "source": [
    "from isanlp.processor_remote import ProcessorRemote\n",
    "from isanlp import PipelineCommon\n",
    "from isanlp.ru.converter_mystem_to_ud import ConverterMystemToUd\n",
    "\n",
    "address_morph = (SERVER0, 4333)\n",
    "address_syntax = (SERVER0, 5336)\n",
    "address_rst = (SERVER2, 3343)\n",
    "\n",
    "\n",
    "ppl = PipelineCommon([(ProcessorRemote(address_morph[0], address_morph[1], 'default'),\n",
    "                 ['text'],\n",
    "                 {'tokens': 'tokens',\n",
    "                  'sentences': 'sentences',\n",
    "                  'postag': 'mystem_postag',\n",
    "                  'lemma': 'lemma'}),\n",
    "                (ProcessorRemote(address_syntax[0], address_syntax[1], '0'),\n",
    "                 ['tokens', 'sentences'],\n",
    "                 {'syntax_dep_tree': 'syntax_dep_tree'}),\n",
    "                (ConverterMystemToUd(),\n",
    "                 ['mystem_postag'],\n",
    "                 {'morph': 'morph',\n",
    "                  'postag': 'postag'}),\n",
    "                (ProcessorRemote(address_rst[0], address_rst[1], 'default'),\n",
    "                 ['text', 'tokens', 'sentences', 'postag', 'morph', 'lemma', 'syntax_dep_tree'],\n",
    "                 {'rst': 'rst'})\n",
    "                     ])"
   ]
  },
  {
   "cell_type": "code",
   "execution_count": 3,
   "metadata": {
    "scrolled": true
   },
   "outputs": [
    {
     "name": "stdout",
     "output_type": "stream",
     "text": [
      "CPU times: user 8.84 ms, sys: 3.44 ms, total: 12.3 ms\n",
      "Wall time: 951 ms\n"
     ]
    }
   ],
   "source": [
    "%%time\n",
    "\n",
    "text = \"Мир изменился. Евросоюзу стало сложнее пропагандировать идею свободного пересечения границ. Идею, на которой основываются остальные ценности ЕС.\"\n",
    "result = ppl(text)"
   ]
  },
  {
   "cell_type": "code",
   "execution_count": 4,
   "metadata": {},
   "outputs": [
    {
     "data": {
      "text/plain": [
       "[<isanlp.annotation_rst.DiscourseUnit at 0x7fada606b610>]"
      ]
     },
     "execution_count": 4,
     "metadata": {},
     "output_type": "execute_result"
    }
   ],
   "source": [
    "result['rst']"
   ]
  },
  {
   "cell_type": "code",
   "execution_count": 5,
   "metadata": {},
   "outputs": [
    {
     "name": "stdout",
     "output_type": "stream",
     "text": [
      "id: 3\n",
      "text: Евросоюзу стало сложнее пропагандировать идею свободного пересечения границ. Идею, на которой основываются остальные ценности ЕС.\n",
      "relation: contrast_m\n",
      "left: Евросоюзу стало сложнее пропагандировать идею свободного пересечения границ.\n",
      "right: Идею, на которой основываются остальные ценности ЕС.\n",
      "start: 15\n",
      "end: 145\n"
     ]
    }
   ],
   "source": [
    "print(result['rst'][0].right)"
   ]
  },
  {
   "cell_type": "code",
   "execution_count": 6,
   "metadata": {},
   "outputs": [],
   "source": [
    "def extr_pairs(tree):\n",
    "    pp = []\n",
    "    \n",
    "    if tree.left:\n",
    "        pp.append([tree.left.text, tree.right.text, tree.relation])\n",
    "        pp += extr_pairs(tree.left)\n",
    "        pp += extr_pairs(tree.right)\n",
    "    return pp"
   ]
  },
  {
   "cell_type": "code",
   "execution_count": 7,
   "metadata": {
    "scrolled": false
   },
   "outputs": [
    {
     "data": {
      "text/plain": [
       "[['Мир изменился.',\n",
       "  'Евросоюзу стало сложнее пропагандировать идею свободного пересечения границ. Идею, на которой основываются остальные ценности ЕС.',\n",
       "  'root'],\n",
       " ['Евросоюзу стало сложнее пропагандировать идею свободного пересечения границ.',\n",
       "  'Идею, на которой основываются остальные ценности ЕС.',\n",
       "  'contrast_m']]"
      ]
     },
     "execution_count": 7,
     "metadata": {},
     "output_type": "execute_result"
    }
   ],
   "source": [
    "extr_pairs(result['rst'][0])"
   ]
  }
 ],
 "metadata": {
  "kernelspec": {
   "display_name": "Python 3",
   "language": "python",
   "name": "python3"
  },
  "language_info": {
   "codemirror_mode": {
    "name": "ipython",
    "version": 3
   },
   "file_extension": ".py",
   "mimetype": "text/x-python",
   "name": "python",
   "nbconvert_exporter": "python",
   "pygments_lexer": "ipython3",
   "version": "3.7.4"
  }
 },
 "nbformat": 4,
 "nbformat_minor": 2
}
