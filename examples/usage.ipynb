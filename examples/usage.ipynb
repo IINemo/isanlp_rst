{
 "cells": [
  {
   "cell_type": "code",
   "execution_count": null,
   "metadata": {},
   "outputs": [],
   "source": [
    "! pip install -U git+https://github.com/IINemo/isanlp.git@discourse"
   ]
  },
  {
   "cell_type": "code",
   "execution_count": null,
   "metadata": {},
   "outputs": [],
   "source": [
    "SERVER0 = ''\n",
    "SERVER1 = ''\n",
    "SERVER2 = ''"
   ]
  },
  {
   "cell_type": "code",
   "execution_count": 5,
   "metadata": {},
   "outputs": [],
   "source": [
    "from isanlp import PipelineCommon\n",
    "from isanlp.processor_remote import ProcessorRemote\n",
    "from isanlp.ru.processor_mystem import ProcessorMystem\n",
    "from isanlp.ru.converter_mystem_to_ud import ConverterMystemToUd\n",
    "\n",
    "address_morph = (SERVER0, 4333)\n",
    "address_syntax = (SERVER0, 5336)\n",
    "address_rst = (SERVER2, 3344)\n",
    "\n",
    "ppl = PipelineCommon([\n",
    "    (ProcessorRemote(address_syntax[0], address_syntax[1], '0'),\n",
    "     ['text'],\n",
    "     {'sentences': 'sentences',\n",
    "      'tokens': 'tokens',\n",
    "      'lemma': 'lemma',\n",
    "      'syntax_dep_tree': 'syntax_dep_tree',\n",
    "      'postag': 'ud_postag'}),\n",
    "    (ProcessorMystem(delay_init=False),\n",
    "     ['tokens', 'sentences'],\n",
    "     {'postag': 'postag'}),\n",
    "    (ConverterMystemToUd(),\n",
    "     ['postag'],\n",
    "     {'morph': 'morph',\n",
    "      'postag': 'postag'}),\n",
    "    (ProcessorRemote(address_rst[0], address_rst[1], 'default'),\n",
    "     ['text', 'tokens', 'sentences', 'postag', 'morph', 'lemma', 'syntax_dep_tree'],\n",
    "     {'rst': 'rst'})\n",
    "])"
   ]
  },
  {
   "cell_type": "code",
   "execution_count": 6,
   "metadata": {},
   "outputs": [],
   "source": [
    "text = 'При этом отправители письма напрямую связывают удары американских беспилотников с '\\\n",
    "'серией терактов в Париже, которые произошли 13 ноября 2015 года. '\\\n",
    "'«Мы не можем спокойно сидеть и наблюдать за такими трагедиями, как атаки в Париже, '\\\n",
    "'зная, какие разрушительные последствия за рубежом имеет программа использования '\\\n",
    "'БПЛА», - говорится в открытом письме экс-военных.'\n"
   ]
  },
  {
   "cell_type": "code",
   "execution_count": 8,
   "metadata": {},
   "outputs": [
    {
     "name": "stdout",
     "output_type": "stream",
     "text": [
      "CPU times: user 22 ms, sys: 0 ns, total: 22 ms\n",
      "Wall time: 3.17 s\n"
     ]
    }
   ],
   "source": [
    "%%time\n",
    "\n",
    "result = ppl(text)"
   ]
  },
  {
   "cell_type": "code",
   "execution_count": 9,
   "metadata": {
    "scrolled": true
   },
   "outputs": [
    {
     "data": {
      "text/plain": [
       "[<isanlp.annotation_rst.DiscourseUnit at 0x7f64a8b9eb10>]"
      ]
     },
     "execution_count": 9,
     "metadata": {},
     "output_type": "execute_result"
    }
   ],
   "source": [
    "result['rst']"
   ]
  },
  {
   "cell_type": "code",
   "execution_count": 10,
   "metadata": {},
   "outputs": [
    {
     "name": "stdout",
     "output_type": "stream",
     "text": [
      "id: 10\n",
      "text: При этом отправители письма напрямую связывают удары американских беспилотников с серией терактов в Париже, которые произошли 13 ноября 2015 года. «Мы не можем спокойно сидеть и наблюдать за такими трагедиями, как атаки в Париже, зная, какие разрушительные последствия за рубежом имеет программа использования БПЛА», - говорится в открытом письме экс-военных.\n",
      "proba: 0.15137706510373972\n",
      "relation: elaboration_r\n",
      "nuclearity: _\n",
      "left: При этом отправители письма напрямую связывают удары американских беспилотников с серией терактов в Париже, которые произошли 13 ноября 2015 года.\n",
      "right: «Мы не можем спокойно сидеть и наблюдать за такими трагедиями, как атаки в Париже, зная, какие разрушительные последствия за рубежом имеет программа использования БПЛА», - говорится в открытом письме экс-военных.\n",
      "start: 0\n",
      "end: 359\n"
     ]
    }
   ],
   "source": [
    "print(result['rst'][0])"
   ]
  },
  {
   "cell_type": "code",
   "execution_count": 11,
   "metadata": {},
   "outputs": [],
   "source": [
    "def extr_pairs(tree):\n",
    "    pp = []\n",
    "    \n",
    "    if tree.left:\n",
    "        pp.append([tree.left.text, tree.right.text, tree.relation])\n",
    "        pp += extr_pairs(tree.left)\n",
    "        pp += extr_pairs(tree.right)\n",
    "    return pp"
   ]
  },
  {
   "cell_type": "code",
   "execution_count": 12,
   "metadata": {
    "scrolled": true
   },
   "outputs": [
    {
     "data": {
      "text/plain": [
       "[['При этом отправители письма напрямую связывают удары американских беспилотников с серией терактов в Париже, которые произошли 13 ноября 2015 года.',\n",
       "  '«Мы не можем спокойно сидеть и наблюдать за такими трагедиями, как атаки в Париже, зная, какие разрушительные последствия за рубежом имеет программа использования БПЛА», - говорится в открытом письме экс-военных.',\n",
       "  'elaboration_r'],\n",
       " ['При этом отправители письма напрямую связывают удары американских беспилотников с серией терактов в Париже,',\n",
       "  'которые произошли 13 ноября 2015 года.',\n",
       "  'elaboration_r'],\n",
       " ['«Мы не можем спокойно сидеть и наблюдать за такими трагедиями, как атаки в Париже, зная, какие разрушительные последствия за рубежом имеет программа использования БПЛА»,',\n",
       "  '- говорится в открытом письме экс-военных.',\n",
       "  'attribution_r'],\n",
       " ['«Мы не можем спокойно сидеть',\n",
       "  'и наблюдать за такими трагедиями, как атаки в Париже, зная, какие разрушительные последствия за рубежом имеет программа использования БПЛА»,',\n",
       "  'joint_m'],\n",
       " ['и наблюдать за такими трагедиями, как атаки в Париже,',\n",
       "  'зная, какие разрушительные последствия за рубежом имеет программа использования БПЛА»,',\n",
       "  'same-unit_m']]"
      ]
     },
     "execution_count": 12,
     "metadata": {},
     "output_type": "execute_result"
    }
   ],
   "source": [
    "extr_pairs(result['rst'][0])"
   ]
  }
 ],
 "metadata": {
  "kernelspec": {
   "display_name": "Python 3",
   "language": "python",
   "name": "python3"
  },
  "language_info": {
   "codemirror_mode": {
    "name": "ipython",
    "version": 3
   },
   "file_extension": ".py",
   "mimetype": "text/x-python",
   "name": "python",
   "nbconvert_exporter": "python",
   "pygments_lexer": "ipython3",
   "version": "3.7.4"
  }
 },
 "nbformat": 4,
 "nbformat_minor": 2
}
