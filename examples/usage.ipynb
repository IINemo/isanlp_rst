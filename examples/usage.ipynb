{
 "cells": [
  {
   "cell_type": "code",
   "execution_count": 16,
   "metadata": {},
   "outputs": [
    {
     "name": "stdout",
     "output_type": "stream",
     "text": [
      "Collecting git+https://github.com/IINemo/isanlp.git@dev\n",
      "  Cloning https://github.com/IINemo/isanlp.git (to revision dev) to /tmp/pip-req-build-ceyjsig5\n",
      "  Running command git clone -q https://github.com/IINemo/isanlp.git /tmp/pip-req-build-ceyjsig5\n",
      "  Running command git checkout -b dev --track origin/dev\n",
      "  Switched to a new branch 'dev'\n",
      "  Branch dev set up to track remote branch dev from origin.\n",
      "Building wheels for collected packages: isanlp\n",
      "  Building wheel for isanlp (setup.py) ... \u001b[?25ldone\n",
      "\u001b[?25h  Created wheel for isanlp: filename=isanlp-0.0.6-cp36-none-any.whl size=33540 sha256=9a0e87136493f2fdda8b48764459bf0560951a93cb8015b915b8127fb41aa5a5\n",
      "  Stored in directory: /tmp/pip-ephem-wheel-cache-mmjml67p/wheels/c2/22/fa/c2380ddd40a8fe7980f3ead4d7cbad4889975055f3bea6c15a\n",
      "Successfully built isanlp\n",
      "Installing collected packages: isanlp\n",
      "  Found existing installation: isanlp 0.0.6\n",
      "    Uninstalling isanlp-0.0.6:\n",
      "      Successfully uninstalled isanlp-0.0.6\n",
      "Successfully installed isanlp-0.0.6\n"
     ]
    }
   ],
   "source": [
    "! pip install -U git+https://github.com/IINemo/isanlp.git@dev"
   ]
  },
  {
   "cell_type": "code",
   "execution_count": 1,
   "metadata": {},
   "outputs": [],
   "source": [
    "%%bash\n",
    "\n",
    "cp ../src/isanlp_rst/annotation.py ~/.pyenv/versions/3.6.7/lib/python3.6/site-packages/isanlp/annotation_rst.py\n",
    "cp ../src/isanlp_rst/annotation_rst_pb2.py ~/.pyenv/versions/3.6.7/lib/python3.6/site-packages/isanlp/annotation_rst_pb2.py\n",
    "cp ../src/isanlp_rst/annotation_from_protobuf.py ~/.pyenv/versions/3.6.7/lib/python3.6/site-packages/isanlp/annotation_from_protobuf.py"
   ]
  },
  {
   "cell_type": "code",
   "execution_count": 2,
   "metadata": {},
   "outputs": [],
   "source": [
    "SERVER0 = ''\n",
    "SERVER1 = ''\n",
    "SERVER2 = ''"
   ]
  },
  {
   "cell_type": "code",
   "execution_count": 5,
   "metadata": {},
   "outputs": [],
   "source": [
    "from isanlp.processor_remote import ProcessorRemote\n",
    "from isanlp.processor_syntaxnet_remote import ProcessorSyntaxNetRemote\n",
    "from isanlp import PipelineCommon\n",
    "from isanlp.ru.converter_mystem_to_ud import ConverterMystemToUd\n",
    "\n",
    "address_morph = (SERVER0, 4333)\n",
    "address_syntax = (SERVER0, 4343)\n",
    "address_rst = (SERVER1, 3490)\n",
    "address_rst = (SERVER2, 3343)\n",
    "\n",
    "ppl = PipelineCommon([(ProcessorRemote(address_morph[0], address_morph[1], 'default'),\n",
    "                 ['text'],\n",
    "                 {'tokens': 'tokens',\n",
    "                  'sentences': 'sentences',\n",
    "                  'postag': 'mystem_postag',\n",
    "                  'lemma': 'lemma'}),\n",
    "                (ProcessorSyntaxNetRemote(address_syntax[0], address_syntax[1]),\n",
    "                 ['tokens', 'sentences'],\n",
    "                 {'syntax_dep_tree': 'syntax_dep_tree'}),\n",
    "                (ConverterMystemToUd(),\n",
    "                 ['mystem_postag'],\n",
    "                 {'morph': 'morph',\n",
    "                  'postag': 'postag'}),\n",
    "                (ProcessorRemote(address_rst[0], address_rst[1], 'default'),\n",
    "                 ['text', 'tokens', 'sentences', 'postag', 'morph', 'lemma', 'syntax_dep_tree'],\n",
    "                 {'rst': 'rst'})])"
   ]
  },
  {
   "cell_type": "code",
   "execution_count": 17,
   "metadata": {},
   "outputs": [],
   "source": [
    "res = ppl('Вообще, парадокс - это выражение, в котором вывод не совпадает с посылкой и не вытекает из нее.')"
   ]
  },
  {
   "cell_type": "code",
   "execution_count": 18,
   "metadata": {},
   "outputs": [
    {
     "data": {
      "text/plain": [
       "{'text': 'Вообще, парадокс - это выражение, в котором вывод не совпадает с посылкой и не вытекает из нее.',\n",
       " 'tokens': [<isanlp.annotation.Token at 0x7f4f055ee128>,\n",
       "  <isanlp.annotation.Token at 0x7f4f05568e48>,\n",
       "  <isanlp.annotation.Token at 0x7f4f05581208>,\n",
       "  <isanlp.annotation.Token at 0x7f4f05581198>,\n",
       "  <isanlp.annotation.Token at 0x7f4f05581438>,\n",
       "  <isanlp.annotation.Token at 0x7f4f055815c0>,\n",
       "  <isanlp.annotation.Token at 0x7f4f05581358>,\n",
       "  <isanlp.annotation.Token at 0x7f4f05581240>,\n",
       "  <isanlp.annotation.Token at 0x7f4f055812b0>,\n",
       "  <isanlp.annotation.Token at 0x7f4f05581400>,\n",
       "  <isanlp.annotation.Token at 0x7f4f05581160>,\n",
       "  <isanlp.annotation.Token at 0x7f4f055813c8>,\n",
       "  <isanlp.annotation.Token at 0x7f4f05581390>,\n",
       "  <isanlp.annotation.Token at 0x7f4f05581320>,\n",
       "  <isanlp.annotation.Token at 0x7f4f055814e0>,\n",
       "  <isanlp.annotation.Token at 0x7f4f055814a8>,\n",
       "  <isanlp.annotation.Token at 0x7f4f055812e8>,\n",
       "  <isanlp.annotation.Token at 0x7f4f05581550>,\n",
       "  <isanlp.annotation.Token at 0x7f4f05581518>,\n",
       "  <isanlp.annotation.Token at 0x7f4f05581278>],\n",
       " 'sentences': [<isanlp.annotation.Sentence at 0x7f4f055815f8>],\n",
       " 'mystem_postag': [['ADV,вводн=',\n",
       "   '',\n",
       "   'S,муж,неод=(вин,ед|им,ед)',\n",
       "   '',\n",
       "   'PART=',\n",
       "   'S,сред,неод=(вин,ед|им,ед)',\n",
       "   '',\n",
       "   'PR=',\n",
       "   'APRO=(пр,ед,муж|пр,ед,сред)',\n",
       "   'S,муж,неод=(вин,ед|им,ед)',\n",
       "   'PART=',\n",
       "   'V,нп=непрош,ед,изъяв,3-л,несов',\n",
       "   'PR=',\n",
       "   'S,жен,неод=твор,ед',\n",
       "   'CONJ=',\n",
       "   'PART=',\n",
       "   'V,нп=непрош,ед,изъяв,3-л,несов',\n",
       "   'PR=',\n",
       "   'SPRO,ед,3-л,жен=(вин|род)',\n",
       "   '']],\n",
       " 'lemma': [['вообще',\n",
       "   ',',\n",
       "   'парадокс',\n",
       "   '-',\n",
       "   'это',\n",
       "   'выражение',\n",
       "   ',',\n",
       "   'в',\n",
       "   'который',\n",
       "   'вывод',\n",
       "   'не',\n",
       "   'совпадать',\n",
       "   'с',\n",
       "   'посылка',\n",
       "   'и',\n",
       "   'не',\n",
       "   'вытекать',\n",
       "   'из',\n",
       "   'она',\n",
       "   '.']],\n",
       " 'syntax_dep_tree': [[<isanlp.annotation.WordSynt at 0x7f4f0557aba8>,\n",
       "   <isanlp.annotation.WordSynt at 0x7f4f0557a6a0>,\n",
       "   <isanlp.annotation.WordSynt at 0x7f4f0557a7f0>,\n",
       "   <isanlp.annotation.WordSynt at 0x7f4f0557af28>,\n",
       "   <isanlp.annotation.WordSynt at 0x7f4f0557acc0>,\n",
       "   <isanlp.annotation.WordSynt at 0x7f4f0557ac88>,\n",
       "   <isanlp.annotation.WordSynt at 0x7f4f0557ab00>,\n",
       "   <isanlp.annotation.WordSynt at 0x7f4f0557a7b8>,\n",
       "   <isanlp.annotation.WordSynt at 0x7f4f0557a4a8>,\n",
       "   <isanlp.annotation.WordSynt at 0x7f4f0557a438>,\n",
       "   <isanlp.annotation.WordSynt at 0x7f4f0557a5f8>,\n",
       "   <isanlp.annotation.WordSynt at 0x7f4f0557a278>,\n",
       "   <isanlp.annotation.WordSynt at 0x7f4f0557a390>,\n",
       "   <isanlp.annotation.WordSynt at 0x7f4f0557aa20>,\n",
       "   <isanlp.annotation.WordSynt at 0x7f4f0557a748>,\n",
       "   <isanlp.annotation.WordSynt at 0x7f4f0557a710>,\n",
       "   <isanlp.annotation.WordSynt at 0x7f4f0557a358>,\n",
       "   <isanlp.annotation.WordSynt at 0x7f4f0557a160>,\n",
       "   <isanlp.annotation.WordSynt at 0x7f4f0557a128>,\n",
       "   <isanlp.annotation.WordSynt at 0x7f4f0557a3c8>]],\n",
       " 'morph': [[{'fPOS': 'ADV'},\n",
       "   {},\n",
       "   {'fPOS': 'NOUN',\n",
       "    'Gender': 'Masc',\n",
       "    'Animacy': 'Inan',\n",
       "    'Case': 'Acc',\n",
       "    'Number': 'Sing'},\n",
       "   {},\n",
       "   {'fPOS': 'PART'},\n",
       "   {'fPOS': 'NOUN',\n",
       "    'Gender': 'Neut',\n",
       "    'Animacy': 'Inan',\n",
       "    'Case': 'Acc',\n",
       "    'Number': 'Sing'},\n",
       "   {},\n",
       "   {'fPOS': 'ADP'},\n",
       "   {'fPOS': 'PRON', 'Case': 'Loc', 'Number': 'Sing', 'Gender': 'Masc'},\n",
       "   {'fPOS': 'NOUN',\n",
       "    'Gender': 'Masc',\n",
       "    'Animacy': 'Inan',\n",
       "    'Case': 'Acc',\n",
       "    'Number': 'Sing'},\n",
       "   {'fPOS': 'PART'},\n",
       "   {'fPOS': 'VERB',\n",
       "    'Valency': 'INTR',\n",
       "    'Tense': 'Imp',\n",
       "    'Number': 'Sing',\n",
       "    'VerbForm': 'Fin',\n",
       "    'Person': '3',\n",
       "    'Aspect': 'Imp'},\n",
       "   {'fPOS': 'ADP'},\n",
       "   {'fPOS': 'NOUN',\n",
       "    'Gender': 'Fem',\n",
       "    'Animacy': 'Inan',\n",
       "    'Case': 'Ins',\n",
       "    'Number': 'Sing'},\n",
       "   {'fPOS': 'CONJ'},\n",
       "   {'fPOS': 'PART'},\n",
       "   {'fPOS': 'VERB',\n",
       "    'Valency': 'INTR',\n",
       "    'Tense': 'Imp',\n",
       "    'Number': 'Sing',\n",
       "    'VerbForm': 'Fin',\n",
       "    'Person': '3',\n",
       "    'Aspect': 'Imp'},\n",
       "   {'fPOS': 'ADP'},\n",
       "   {'fPOS': 'PRON',\n",
       "    'Number': 'Sing',\n",
       "    'Person': '3',\n",
       "    'Gender': 'Fem',\n",
       "    'Case': 'Acc'},\n",
       "   {}]],\n",
       " 'postag': [['ADV',\n",
       "   '',\n",
       "   'NOUN',\n",
       "   '',\n",
       "   'PART',\n",
       "   'NOUN',\n",
       "   '',\n",
       "   'ADP',\n",
       "   'PRON',\n",
       "   'NOUN',\n",
       "   'PART',\n",
       "   'VERB',\n",
       "   'ADP',\n",
       "   'NOUN',\n",
       "   'CONJ',\n",
       "   'PART',\n",
       "   'VERB',\n",
       "   'ADP',\n",
       "   'PRON',\n",
       "   '']],\n",
       " 'rst': [<isanlp.annotation_rst.DiscourseUnit at 0x7f4f05586400>]}"
      ]
     },
     "execution_count": 18,
     "metadata": {},
     "output_type": "execute_result"
    }
   ],
   "source": [
    "res"
   ]
  },
  {
   "cell_type": "code",
   "execution_count": 19,
   "metadata": {},
   "outputs": [
    {
     "name": "stdout",
     "output_type": "stream",
     "text": [
      "[<isanlp.annotation_rst.DiscourseUnit object at 0x7f4f05586400>]\n"
     ]
    }
   ],
   "source": [
    "print(res['rst'])"
   ]
  },
  {
   "cell_type": "code",
   "execution_count": 20,
   "metadata": {},
   "outputs": [],
   "source": [
    "def extr_pairs(tree):\n",
    "    pp = []\n",
    "    \n",
    "    if tree.left:\n",
    "        pp.append([tree.left.text, tree.right.text, tree.relation])\n",
    "        pp += extr_pairs(tree.left)\n",
    "        pp += extr_pairs(tree.right)\n",
    "    return pp"
   ]
  },
  {
   "cell_type": "code",
   "execution_count": 21,
   "metadata": {},
   "outputs": [
    {
     "name": "stdout",
     "output_type": "stream",
     "text": [
      "id: 12\n",
      "text: Вообще, парадокс - это выражение, в котором вывод не совпадает с посылкой и не вытекает из нее.\n",
      "relation: root\n",
      "left: Вообще, парадокс - это выражение, в котором вывод не совпадает с посылкой и не вытекает из нее\n",
      "\r",
      "ight: .\n",
      "\n"
     ]
    }
   ],
   "source": [
    "print(res['rst'][0])"
   ]
  },
  {
   "cell_type": "code",
   "execution_count": 22,
   "metadata": {
    "scrolled": true
   },
   "outputs": [
    {
     "data": {
      "text/plain": [
       "[['Вообще, парадокс - это выражение, в котором вывод не совпадает с посылкой и не вытекает из нее',\n",
       "  '.',\n",
       "  'root'],\n",
       " ['Вообще, парадокс - это выражение, в котором вывод не совпадает с посылкой и',\n",
       "  ' не вытекает из нее',\n",
       "  'relation'],\n",
       " ['Вообще, парадокс - это выражение, в котором вывод не совпадает с посылкой',\n",
       "  ' и',\n",
       "  'relation'],\n",
       " ['Вообще, парадокс',\n",
       "  ' - это выражение, в котором вывод не совпадает с посылкой',\n",
       "  'relation'],\n",
       " [' - это выражение', ', в котором вывод не совпадает с посылкой', 'relation'],\n",
       " [',', ' в котором вывод не совпадает с посылкой', 'relation']]"
      ]
     },
     "execution_count": 22,
     "metadata": {},
     "output_type": "execute_result"
    }
   ],
   "source": [
    "extr_pairs(res['rst'][0])"
   ]
  }
 ],
 "metadata": {
  "kernelspec": {
   "display_name": "Python 3",
   "language": "python",
   "name": "python3"
  },
  "language_info": {
   "codemirror_mode": {
    "name": "ipython",
    "version": 3
   },
   "file_extension": ".py",
   "mimetype": "text/x-python",
   "name": "python",
   "nbconvert_exporter": "python",
   "pygments_lexer": "ipython3",
   "version": "3.6.7"
  }
 },
 "nbformat": 4,
 "nbformat_minor": 2
}
