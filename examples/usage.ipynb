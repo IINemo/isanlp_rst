{
 "cells": [
  {
   "cell_type": "code",
   "execution_count": 1,
   "metadata": {},
   "outputs": [],
   "source": [
    "%%bash\n",
    "\n",
    "cp ../src/isanlp_rst/annotation.py ~/.pyenv/versions/3.6.7/lib/python3.6/site-packages/isanlp/annotation_rst.py\n",
    "cp ../src/isanlp_rst/annotation_rst_pb2.py ~/.pyenv/versions/3.6.7/lib/python3.6/site-packages/isanlp/annotation_rst_pb2.py\n",
    "cp ../src/isanlp_rst/annotation_from_protobuf.py ~/.pyenv/versions/3.6.7/lib/python3.6/site-packages/isanlp/annotation_from_protobuf.py"
   ]
  },
  {
   "cell_type": "code",
   "execution_count": 2,
   "metadata": {},
   "outputs": [],
   "source": [
    "from isanlp.processor_remote import ProcessorRemote\n",
    "from isanlp.processor_syntaxnet_remote import ProcessorSyntaxNetRemote\n",
    "from isanlp import PipelineCommon\n",
    "from isanlp.ru.converter_mystem_to_ud import ConverterMystemToUd\n",
    "\n",
    "address_morph = (SERVER0, 4333)\n",
    "address_syntax = (SERVER0, 4340)\n",
    "address_rst = (SERVER1, 3490)\n",
    "\n",
    "ppl = PipelineCommon([(ProcessorRemote(address_morph[0], address_morph[1], 'default'),\n",
    "                 ['text'],\n",
    "                 {'tokens': 'tokens',\n",
    "                  'sentences': 'sentences',\n",
    "                  'postag': 'mystem_postag',\n",
    "                  'lemma': 'lemma'}),\n",
    "                (ProcessorSyntaxNetRemote(address_syntax[0], address_syntax[1]),\n",
    "                 ['tokens', 'sentences'],\n",
    "                 {'syntax_dep_tree': 'syntax_dep_tree'}),\n",
    "                (ConverterMystemToUd(),\n",
    "                 ['mystem_postag'],\n",
    "                 {'morph': 'morph',\n",
    "                  'postag': 'postag'}),\n",
    "                (ProcessorRemote(address_rst[0], address_rst[1], 'default'),\n",
    "                 ['text', 'tokens', 'sentences', 'postag', 'morph', 'lemma', 'syntax_dep_tree'],\n",
    "                 {'rst': 'rst'})])"
   ]
  },
  {
   "cell_type": "code",
   "execution_count": 3,
   "metadata": {},
   "outputs": [],
   "source": [
    "res = ppl('Тем не менее, по данным РИА Новости, инициатива была одобрена комитетом.')"
   ]
  },
  {
   "cell_type": "code",
   "execution_count": 4,
   "metadata": {},
   "outputs": [
    {
     "name": "stdout",
     "output_type": "stream",
     "text": [
      "[<isanlp.annotation_rst.DiscourseUnit object at 0x7f4072dd5748>]\n"
     ]
    }
   ],
   "source": [
    "print(res['rst'])"
   ]
  },
  {
   "cell_type": "code",
   "execution_count": 5,
   "metadata": {},
   "outputs": [],
   "source": [
    "def extr_pairs(tree):\n",
    "    pp = []\n",
    "    \n",
    "    if tree.left:\n",
    "        pp.append([tree.left.text, tree.right.text, tree.relation])\n",
    "        pp += extr_pairs(tree.left)\n",
    "        pp += extr_pairs(tree.right)\n",
    "    return pp"
   ]
  },
  {
   "cell_type": "code",
   "execution_count": 6,
   "metadata": {},
   "outputs": [
    {
     "name": "stdout",
     "output_type": "stream",
     "text": [
      "id: 14\n",
      "text: Тем не менее, по данным РИА Новости, инициатива была одобрена комитетом.\n",
      "relation: root\n",
      "left: Тем не менее, по данным РИА Новости, инициатива была\n",
      "\r",
      "ight:  одобрена комитетом.\n",
      "\n"
     ]
    }
   ],
   "source": [
    "print(res['rst'][0])"
   ]
  },
  {
   "cell_type": "code",
   "execution_count": 7,
   "metadata": {
    "scrolled": true
   },
   "outputs": [
    {
     "data": {
      "text/plain": [
       "[['Тем не менее, по данным РИА Новости, инициатива была',\n",
       "  ' одобрена комитетом.',\n",
       "  'root'],\n",
       " ['Тем не', ' менее, по данным РИА Новости, инициатива была', 'relation'],\n",
       " [' менее, по данным РИА Новости', ', инициатива была', 'relation'],\n",
       " [' менее', ', по данным РИА Новости', 'relation'],\n",
       " [', инициатива', ' была', 'relation'],\n",
       " [' одобрена', ' комитетом.', 'relation'],\n",
       " [' комитетом', '.', 'relation']]"
      ]
     },
     "execution_count": 7,
     "metadata": {},
     "output_type": "execute_result"
    }
   ],
   "source": [
    "extr_pairs(res['rst'][0])"
   ]
  }
 ],
 "metadata": {
  "kernelspec": {
   "display_name": "Python 3",
   "language": "python",
   "name": "python3"
  },
  "language_info": {
   "codemirror_mode": {
    "name": "ipython",
    "version": 3
   },
   "file_extension": ".py",
   "mimetype": "text/x-python",
   "name": "python",
   "nbconvert_exporter": "python",
   "pygments_lexer": "ipython3",
   "version": "3.6.7"
  }
 },
 "nbformat": 4,
 "nbformat_minor": 2
}
