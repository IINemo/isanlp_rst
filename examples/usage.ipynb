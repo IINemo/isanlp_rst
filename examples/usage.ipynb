{
 "cells": [
  {
   "cell_type": "code",
   "execution_count": null,
   "metadata": {},
   "outputs": [],
   "source": [
    "! pip install -U git+https://github.com/IINemo/isanlp.git@discourse"
   ]
  },
  {
   "cell_type": "code",
   "execution_count": 1,
   "metadata": {},
   "outputs": [],
   "source": [
    "from isanlp import PipelineCommon\n",
    "from isanlp.processor_remote import ProcessorRemote\n",
    "from isanlp.ru.processor_mystem import ProcessorMystem\n",
    "from isanlp.ru.converter_mystem_to_ud import ConverterMystemToUd\n",
    "\n",
    "SERVER = ''  # put the address here\n",
    "address_syntax = (SERVER, 3334)\n",
    "address_rst = (SERVER, 3345)\n",
    "\n",
    "ppl = PipelineCommon([\n",
    "    (ProcessorRemote(address_syntax[0], address_syntax[1], '0'),\n",
    "     ['text'],\n",
    "     {'sentences': 'sentences',\n",
    "      'tokens': 'tokens',\n",
    "      'lemma': 'lemma',\n",
    "      'syntax_dep_tree': 'syntax_dep_tree',\n",
    "      'postag': 'ud_postag'}),\n",
    "    (ProcessorMystem(delay_init=False),\n",
    "     ['tokens', 'sentences'],\n",
    "     {'postag': 'postag'}),\n",
    "    (ConverterMystemToUd(),\n",
    "     ['postag'],\n",
    "     {'morph': 'morph',\n",
    "      'postag': 'postag'}),\n",
    "    (ProcessorRemote(address_rst[0], address_rst[1], 'default'),\n",
    "     ['text', 'tokens', 'sentences', 'postag', 'morph', 'lemma', 'syntax_dep_tree'],\n",
    "     {'rst': 'rst'})\n",
    "])"
   ]
  },
  {
   "cell_type": "code",
   "execution_count": 2,
   "metadata": {},
   "outputs": [],
   "source": [
    "text = (\n",
    "\"Новости о грядущей эмиссии в США обвалили доллар и подняли цену доллара. При этом рост количества \"\n",
    "\"долларов пока не зафиксирован. Со швейцарским франком ситуация противоположная. Стало известно , ч\"\n",
    "\"то в феврале денежная масса Швейцарии увеличилась на 3.5%, однако биржевой курс франка и его покуп\"\n",
    "\"ательная способность за неделю выросли.\"\n",
    ")"
   ]
  },
  {
   "cell_type": "code",
   "execution_count": 3,
   "metadata": {},
   "outputs": [
    {
     "name": "stdout",
     "output_type": "stream",
     "text": [
      "CPU times: user 25.5 ms, sys: 1.78 ms, total: 27.3 ms\n",
      "Wall time: 10.5 s\n"
     ]
    }
   ],
   "source": [
    "%%time\n",
    "\n",
    "result = ppl(text)"
   ]
  },
  {
   "cell_type": "code",
   "execution_count": 4,
   "metadata": {
    "scrolled": true
   },
   "outputs": [
    {
     "data": {
      "text/plain": [
       "[<isanlp.annotation_rst.DiscourseUnit at 0x7f833defa5d0>]"
      ]
     },
     "execution_count": 4,
     "metadata": {},
     "output_type": "execute_result"
    }
   ],
   "source": [
    "result['rst']"
   ]
  },
  {
   "cell_type": "code",
   "execution_count": 5,
   "metadata": {
    "scrolled": false
   },
   "outputs": [
    {
     "name": "stdout",
     "output_type": "stream",
     "text": [
      "id: 10\n",
      "text: Новости о грядущей эмиссии в США обвалили доллар и подняли цену доллара. При этом рост количества долларов пока не зафиксирован. Со швейцарским франком ситуация противоположная. Стало известно , что в феврале денежная масса Швейцарии увеличилась на 3.5%, однако биржевой курс франка и его покупательная способность за неделю выросли.\n",
      "proba: 0.36902757009731957\n",
      "relation: sequence\n",
      "nuclearity: NN\n",
      "left: Новости о грядущей эмиссии в США обвалили доллар и подняли цену доллара.\n",
      "right: При этом рост количества долларов пока не зафиксирован. Со швейцарским франком ситуация противоположная. Стало известно , что в феврале денежная масса Швейцарии увеличилась на 3.5%, однако биржевой курс франка и его покупательная способность за неделю выросли.\n",
      "start: 0\n",
      "end: 333\n"
     ]
    }
   ],
   "source": [
    "print(result['rst'][0])"
   ]
  },
  {
   "cell_type": "code",
   "execution_count": 6,
   "metadata": {
    "scrolled": true
   },
   "outputs": [
    {
     "data": {
      "text/plain": [
       "{'id': 10,\n",
       " 'left': <isanlp.annotation_rst.DiscourseUnit at 0x7f833defa0d0>,\n",
       " 'right': <isanlp.annotation_rst.DiscourseUnit at 0x7f833defa510>,\n",
       " 'relation': 'sequence',\n",
       " 'nuclearity': 'NN',\n",
       " 'proba': 0.36902757009731957,\n",
       " 'start': 0,\n",
       " 'end': 333,\n",
       " 'text': 'Новости о грядущей эмиссии в США обвалили доллар и подняли цену доллара. При этом рост количества долларов пока не зафиксирован. Со швейцарским франком ситуация противоположная. Стало известно , что в феврале денежная масса Швейцарии увеличилась на 3.5%, однако биржевой курс франка и его покупательная способность за неделю выросли.'}"
      ]
     },
     "execution_count": 6,
     "metadata": {},
     "output_type": "execute_result"
    }
   ],
   "source": [
    "vars(result['rst'][0])"
   ]
  },
  {
   "cell_type": "code",
   "execution_count": 7,
   "metadata": {},
   "outputs": [],
   "source": [
    "def extr_pairs(tree, text):\n",
    "    pp = []\n",
    "    if tree.left:\n",
    "        pp.append([text[tree.left.start:tree.left.end], text[tree.right.start:tree.right.end], tree.relation, tree.nuclearity])\n",
    "        pp += extr_pairs(tree.left, text)\n",
    "        pp += extr_pairs(tree.right, text)\n",
    "    return pp"
   ]
  },
  {
   "cell_type": "code",
   "execution_count": 8,
   "metadata": {
    "scrolled": false
   },
   "outputs": [
    {
     "data": {
      "text/plain": [
       "[['Новости о грядущей эмиссии в США обвалили доллар и подняли цену доллара.',\n",
       "  'При этом рост количества долларов пока не зафиксирован. Со швейцарским франком ситуация противоположная. Стало известно , что в феврале денежная масса Швейцарии увеличилась на 3.5%, однако биржевой курс франка и его покупательная способность за неделю выросли.',\n",
       "  'sequence',\n",
       "  'NN'],\n",
       " ['Новости о грядущей эмиссии в США обвалили доллар',\n",
       "  'и подняли цену доллара.',\n",
       "  'joint',\n",
       "  'NN'],\n",
       " ['При этом рост количества долларов пока не зафиксирован.',\n",
       "  'Со швейцарским франком ситуация противоположная. Стало известно , что в феврале денежная масса Швейцарии увеличилась на 3.5%, однако биржевой курс франка и его покупательная способность за неделю выросли.',\n",
       "  'comparison',\n",
       "  'NN'],\n",
       " ['Со швейцарским франком ситуация противоположная.',\n",
       "  'Стало известно , что в феврале денежная масса Швейцарии увеличилась на 3.5%, однако биржевой курс франка и его покупательная способность за неделю выросли.',\n",
       "  'evidence',\n",
       "  'NS'],\n",
       " ['Стало известно , что в феврале денежная масса Швейцарии увеличилась на 3.5%,',\n",
       "  'однако биржевой курс франка и его покупательная способность за неделю выросли.',\n",
       "  'contrast',\n",
       "  'NN']]"
      ]
     },
     "execution_count": 8,
     "metadata": {},
     "output_type": "execute_result"
    }
   ],
   "source": [
    "extr_pairs(result['rst'][0], result['text'])"
   ]
  },
  {
   "cell_type": "code",
   "execution_count": 9,
   "metadata": {},
   "outputs": [],
   "source": [
    "import sys\n",
    "sys.path.append('../')\n",
    "sys.path.append('../../')\n",
    "\n",
    "from _isanlp_rst.src.isanlp_rst.export.to_rs3 import ForestExporter\n",
    "\n",
    "exporter = ForestExporter(encoding='utf8')\n",
    "exporter(result['rst'], 'example.rs3')"
   ]
  },
  {
   "attachments": {},
   "cell_type": "markdown",
   "metadata": {},
   "source": [
    "Output:\n",
    "\n",
    "![example.rs3](example.rs3.png)"
   ]
  }
 ],
 "metadata": {
  "kernelspec": {
   "display_name": "Python 3",
   "language": "python",
   "name": "python3"
  },
  "language_info": {
   "codemirror_mode": {
    "name": "ipython",
    "version": 3
   },
   "file_extension": ".py",
   "mimetype": "text/x-python",
   "name": "python",
   "nbconvert_exporter": "python",
   "pygments_lexer": "ipython3",
   "version": "3.7.4"
  }
 },
 "nbformat": 4,
 "nbformat_minor": 2
}
